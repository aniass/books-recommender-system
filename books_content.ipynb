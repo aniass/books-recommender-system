{
 "cells": [
  {
   "cell_type": "markdown",
   "metadata": {},
   "source": [
    "## Book Recommendation System \n",
    "\n",
    "The project contains the recommendation system with simplest recommendations and content based on the filtering methods.\n",
    "\n",
    "In this project my aim was to analyzed data about books and I have explored two kind of recommendations - the simplest recommendations and content-based filtering. The final result will show that user can input one book's name then the system can provide the other suggested books that he can to read.\n",
    "\n",
    "The objective of a book recommendation system is to predict buyer’s interest and recommend books to them respectively. That system can take into regard many parameters like book content and quality by filtering user reviews. \n",
    "\n",
    "**Dataset:**\n",
    "\n",
    "The dataset comes from Google Books Dataset data and can be find in Kaggle.\n",
    "\n",
    "Columns Description:\n",
    "\n",
    "- title: the title of the book.\n",
    "- author: name of the authors of the books (might include more than one author.\n",
    "- rating: the average rating of each book out of 5.\n",
    "- voters: the number of voters to the book.\n",
    "- price: price of the book on the google books store\n",
    "- currency: the currency of the price in the google books store.\n",
    "- description: brief introductory description of the book.\n",
    "- publisher: the name of the publisher.\n",
    "- pageCount: number of pages of the books.\n",
    "- generes: the categories associated with the book (by Google store)\n",
    "- ISBN: the unique identifier for each book.\n",
    "- language: the language of the book\n",
    "- publishedDate: when the book was published.\n"
   ]
  },
  {
   "cell_type": "markdown",
   "metadata": {},
   "source": [
    "### Import libraries and data"
   ]
  },
  {
   "cell_type": "code",
   "execution_count": 2,
   "metadata": {},
   "outputs": [],
   "source": [
    "import pandas as pd\n",
    "import numpy as np\n",
    "import matplotlib.pyplot as plt\n",
    "import seaborn as sns\n",
    "\n",
    "import datetime as dt\n",
    "from sklearn.feature_extraction.text import TfidfVectorizer\n",
    "from sklearn.feature_extraction.text import CountVectorizer\n",
    "from sklearn.metrics.pairwise import linear_kernel\n",
    "from sklearn.metrics.pairwise import cosine_similarity"
   ]
  },
  {
   "cell_type": "code",
   "execution_count": 3,
   "metadata": {},
   "outputs": [
    {
     "data": {
      "text/html": [
       "<div>\n",
       "<style scoped>\n",
       "    .dataframe tbody tr th:only-of-type {\n",
       "        vertical-align: middle;\n",
       "    }\n",
       "\n",
       "    .dataframe tbody tr th {\n",
       "        vertical-align: top;\n",
       "    }\n",
       "\n",
       "    .dataframe thead th {\n",
       "        text-align: right;\n",
       "    }\n",
       "</style>\n",
       "<table border=\"1\" class=\"dataframe\">\n",
       "  <thead>\n",
       "    <tr style=\"text-align: right;\">\n",
       "      <th></th>\n",
       "      <th>Unnamed: 0</th>\n",
       "      <th>title</th>\n",
       "      <th>author</th>\n",
       "      <th>rating</th>\n",
       "      <th>voters</th>\n",
       "      <th>price</th>\n",
       "      <th>currency</th>\n",
       "      <th>description</th>\n",
       "      <th>publisher</th>\n",
       "      <th>page_count</th>\n",
       "      <th>generes</th>\n",
       "      <th>ISBN</th>\n",
       "      <th>language</th>\n",
       "      <th>published_date</th>\n",
       "    </tr>\n",
       "  </thead>\n",
       "  <tbody>\n",
       "    <tr>\n",
       "      <th>0</th>\n",
       "      <td>0</td>\n",
       "      <td>Attack on Titan: Volume 13</td>\n",
       "      <td>Hajime Isayama</td>\n",
       "      <td>4.6</td>\n",
       "      <td>428</td>\n",
       "      <td>43.28</td>\n",
       "      <td>SAR</td>\n",
       "      <td>NO SAFE PLACE LEFT At great cost to the Garris...</td>\n",
       "      <td>Kodansha Comics</td>\n",
       "      <td>192</td>\n",
       "      <td>none</td>\n",
       "      <td>9781612626864</td>\n",
       "      <td>English</td>\n",
       "      <td>Jul 31, 2014</td>\n",
       "    </tr>\n",
       "    <tr>\n",
       "      <th>1</th>\n",
       "      <td>1</td>\n",
       "      <td>Antiques Roadkill: A Trash 'n' Treasures Mystery</td>\n",
       "      <td>Barbara Allan</td>\n",
       "      <td>3.3</td>\n",
       "      <td>23</td>\n",
       "      <td>26.15</td>\n",
       "      <td>SAR</td>\n",
       "      <td>Determined to make a new start in her quaint h...</td>\n",
       "      <td>Kensington Publishing Corp.</td>\n",
       "      <td>288</td>\n",
       "      <td>Fiction , Mystery &amp;amp, Detective , Cozy , Gen...</td>\n",
       "      <td>9780758272799</td>\n",
       "      <td>English</td>\n",
       "      <td>Jul 1, 2007</td>\n",
       "    </tr>\n",
       "    <tr>\n",
       "      <th>2</th>\n",
       "      <td>2</td>\n",
       "      <td>The Art of Super Mario Odyssey</td>\n",
       "      <td>Nintendo</td>\n",
       "      <td>3.9</td>\n",
       "      <td>9</td>\n",
       "      <td>133.85</td>\n",
       "      <td>SAR</td>\n",
       "      <td>Take a globetrotting journey all over the worl...</td>\n",
       "      <td>Dark Horse Comics</td>\n",
       "      <td>368</td>\n",
       "      <td>Games &amp;amp, Activities , Video &amp;amp, Electronic</td>\n",
       "      <td>9781506713816</td>\n",
       "      <td>English</td>\n",
       "      <td>Nov 5, 2019</td>\n",
       "    </tr>\n",
       "    <tr>\n",
       "      <th>3</th>\n",
       "      <td>3</td>\n",
       "      <td>Getting Away Is Deadly: An Ellie Avery Mystery</td>\n",
       "      <td>Sara Rosett</td>\n",
       "      <td>4.0</td>\n",
       "      <td>10</td>\n",
       "      <td>26.15</td>\n",
       "      <td>SAR</td>\n",
       "      <td>With swollen feet and swelling belly, pregnant...</td>\n",
       "      <td>Kensington Publishing Corp.</td>\n",
       "      <td>320</td>\n",
       "      <td>none</td>\n",
       "      <td>9781617734076</td>\n",
       "      <td>English</td>\n",
       "      <td>Mar 1, 2009</td>\n",
       "    </tr>\n",
       "    <tr>\n",
       "      <th>4</th>\n",
       "      <td>4</td>\n",
       "      <td>The Painted Man (The Demon Cycle, Book 1)</td>\n",
       "      <td>Peter V. Brett</td>\n",
       "      <td>4.5</td>\n",
       "      <td>577</td>\n",
       "      <td>28.54</td>\n",
       "      <td>SAR</td>\n",
       "      <td>The stunning debut fantasy novel from author P...</td>\n",
       "      <td>HarperCollins UK</td>\n",
       "      <td>544</td>\n",
       "      <td>Fiction , Fantasy , Dark Fantasy</td>\n",
       "      <td>9780007287758</td>\n",
       "      <td>English</td>\n",
       "      <td>Jan 8, 2009</td>\n",
       "    </tr>\n",
       "  </tbody>\n",
       "</table>\n",
       "</div>"
      ],
      "text/plain": [
       "   Unnamed: 0                                             title  \\\n",
       "0           0                        Attack on Titan: Volume 13   \n",
       "1           1  Antiques Roadkill: A Trash 'n' Treasures Mystery   \n",
       "2           2                    The Art of Super Mario Odyssey   \n",
       "3           3    Getting Away Is Deadly: An Ellie Avery Mystery   \n",
       "4           4         The Painted Man (The Demon Cycle, Book 1)   \n",
       "\n",
       "           author  rating voters   price currency  \\\n",
       "0  Hajime Isayama     4.6    428   43.28      SAR   \n",
       "1   Barbara Allan     3.3     23   26.15      SAR   \n",
       "2        Nintendo     3.9      9  133.85      SAR   \n",
       "3     Sara Rosett     4.0     10   26.15      SAR   \n",
       "4  Peter V. Brett     4.5    577   28.54      SAR   \n",
       "\n",
       "                                         description  \\\n",
       "0  NO SAFE PLACE LEFT At great cost to the Garris...   \n",
       "1  Determined to make a new start in her quaint h...   \n",
       "2  Take a globetrotting journey all over the worl...   \n",
       "3  With swollen feet and swelling belly, pregnant...   \n",
       "4  The stunning debut fantasy novel from author P...   \n",
       "\n",
       "                     publisher  page_count  \\\n",
       "0              Kodansha Comics         192   \n",
       "1  Kensington Publishing Corp.         288   \n",
       "2            Dark Horse Comics         368   \n",
       "3  Kensington Publishing Corp.         320   \n",
       "4             HarperCollins UK         544   \n",
       "\n",
       "                                             generes           ISBN language  \\\n",
       "0                                               none  9781612626864  English   \n",
       "1  Fiction , Mystery &amp, Detective , Cozy , Gen...  9780758272799  English   \n",
       "2    Games &amp, Activities , Video &amp, Electronic  9781506713816  English   \n",
       "3                                               none  9781617734076  English   \n",
       "4                   Fiction , Fantasy , Dark Fantasy  9780007287758  English   \n",
       "\n",
       "  published_date  \n",
       "0   Jul 31, 2014  \n",
       "1    Jul 1, 2007  \n",
       "2    Nov 5, 2019  \n",
       "3    Mar 1, 2009  \n",
       "4    Jan 8, 2009  "
      ]
     },
     "execution_count": 3,
     "metadata": {},
     "output_type": "execute_result"
    }
   ],
   "source": [
    "df = pd.read_csv(r'C:\\Python Scripts\\Datasets\\google books\\google_books_1299.csv')\n",
    "df.head()"
   ]
  },
  {
   "cell_type": "markdown",
   "metadata": {},
   "source": [
    "First observations:"
   ]
  },
  {
   "cell_type": "code",
   "execution_count": 4,
   "metadata": {},
   "outputs": [
    {
     "data": {
      "text/plain": [
       "(1299, 14)"
      ]
     },
     "execution_count": 4,
     "metadata": {},
     "output_type": "execute_result"
    }
   ],
   "source": [
    "df.shape"
   ]
  },
  {
   "cell_type": "code",
   "execution_count": 5,
   "metadata": {},
   "outputs": [
    {
     "name": "stdout",
     "output_type": "stream",
     "text": [
      "<class 'pandas.core.frame.DataFrame'>\n",
      "RangeIndex: 1299 entries, 0 to 1298\n",
      "Data columns (total 14 columns):\n",
      " #   Column          Non-Null Count  Dtype  \n",
      "---  ------          --------------  -----  \n",
      " 0   Unnamed: 0      1299 non-null   int64  \n",
      " 1   title           1299 non-null   object \n",
      " 2   author          1299 non-null   object \n",
      " 3   rating          1224 non-null   float64\n",
      " 4   voters          1224 non-null   object \n",
      " 5   price           1299 non-null   float64\n",
      " 6   currency        1299 non-null   object \n",
      " 7   description     1296 non-null   object \n",
      " 8   publisher       1299 non-null   object \n",
      " 9   page_count      1299 non-null   int64  \n",
      " 10  generes         1299 non-null   object \n",
      " 11  ISBN            1299 non-null   object \n",
      " 12  language        1299 non-null   object \n",
      " 13  published_date  1299 non-null   object \n",
      "dtypes: float64(2), int64(2), object(10)\n",
      "memory usage: 142.2+ KB\n"
     ]
    }
   ],
   "source": [
    "df.info()"
   ]
  },
  {
   "cell_type": "markdown",
   "metadata": {},
   "source": [
    "Checking for missing values:"
   ]
  },
  {
   "cell_type": "code",
   "execution_count": 6,
   "metadata": {},
   "outputs": [
    {
     "data": {
      "text/plain": [
       "Unnamed: 0         0\n",
       "title              0\n",
       "author             0\n",
       "rating            75\n",
       "voters            75\n",
       "price              0\n",
       "currency           0\n",
       "description        3\n",
       "publisher          0\n",
       "page_count         0\n",
       "generes            0\n",
       "ISBN               0\n",
       "language           0\n",
       "published_date     0\n",
       "dtype: int64"
      ]
     },
     "execution_count": 6,
     "metadata": {},
     "output_type": "execute_result"
    }
   ],
   "source": [
    "df.isnull().sum()"
   ]
  },
  {
   "cell_type": "code",
   "execution_count": 7,
   "metadata": {},
   "outputs": [
    {
     "data": {
      "text/plain": [
       "Index(['Unnamed: 0', 'title', 'author', 'rating', 'voters', 'price',\n",
       "       'currency', 'description', 'publisher', 'page_count', 'generes', 'ISBN',\n",
       "       'language', 'published_date'],\n",
       "      dtype='object')"
      ]
     },
     "execution_count": 7,
     "metadata": {},
     "output_type": "execute_result"
    }
   ],
   "source": [
    "df.columns"
   ]
  },
  {
   "cell_type": "markdown",
   "metadata": {},
   "source": [
    "Checking for unique values:"
   ]
  },
  {
   "cell_type": "code",
   "execution_count": 8,
   "metadata": {},
   "outputs": [
    {
     "data": {
      "text/plain": [
       "array(['English'], dtype=object)"
      ]
     },
     "execution_count": 8,
     "metadata": {},
     "output_type": "execute_result"
    }
   ],
   "source": [
    "df.language.unique()"
   ]
  },
  {
   "cell_type": "code",
   "execution_count": 9,
   "metadata": {},
   "outputs": [
    {
     "data": {
      "text/plain": [
       "HarperCollins UK             112\n",
       "Hachette UK                  112\n",
       "Penguin                       75\n",
       "Simon and Schuster            71\n",
       "DC                            52\n",
       "                            ... \n",
       "Hay House, Inc                 4\n",
       "Kodansha America LLC           4\n",
       "Disha Publications             4\n",
       "One Acre Press                 3\n",
       "Archie Comic Publications      3\n",
       "Name: publisher, Length: 82, dtype: int64"
      ]
     },
     "execution_count": 9,
     "metadata": {},
     "output_type": "execute_result"
    }
   ],
   "source": [
    "df.publisher.value_counts()"
   ]
  },
  {
   "cell_type": "code",
   "execution_count": 10,
   "metadata": {},
   "outputs": [
    {
     "data": {
      "text/plain": [
       "none                                            527\n",
       "Fiction , Thrillers , Suspense                   35\n",
       "Fiction , Fantasy , Epic                         33\n",
       "Comics &amp, Graphic Novels , Superheroes        30\n",
       "Fiction , Mystery &amp, Detective , General      21\n",
       "                                               ... \n",
       "Social Science , Gender Studies                   1\n",
       "True Crime , General                              1\n",
       "Philosophy , History &amp, Surveys , General      1\n",
       "Technology &amp, Engineering , General            1\n",
       "Fiction , Fantasy , Contemporary                  1\n",
       "Name: generes, Length: 242, dtype: int64"
      ]
     },
     "execution_count": 10,
     "metadata": {},
     "output_type": "execute_result"
    }
   ],
   "source": [
    "df.generes.value_counts()"
   ]
  },
  {
   "cell_type": "markdown",
   "metadata": {},
   "source": [
    "There are total 1299 rows with 14 columns and there are missing values in columns rating, voters and description. "
   ]
  },
  {
   "cell_type": "markdown",
   "metadata": {},
   "source": [
    "### Data preparation\n",
    "\n",
    "Firstly I prepare the data to further analysis. I drop the unnecessary column and I change type of 'publication_date' column from object to detatime. Then I extract publication year into separate column. For the column 'description' I replace missing values with an empty string and for column 'voters' I fill NaN with 0. There are many duplicates in the data so I remove them as well. "
   ]
  },
  {
   "cell_type": "code",
   "execution_count": 11,
   "metadata": {},
   "outputs": [],
   "source": [
    "df.drop(['Unnamed: 0'], axis=1, inplace=True)"
   ]
  },
  {
   "cell_type": "code",
   "execution_count": 12,
   "metadata": {},
   "outputs": [],
   "source": [
    "df['published_date'] = pd.to_datetime(df['published_date'], errors='coerce')"
   ]
  },
  {
   "cell_type": "code",
   "execution_count": 13,
   "metadata": {},
   "outputs": [],
   "source": [
    "df['Year'] = pd.to_datetime(df['published_date']).dt.to_period('Y')"
   ]
  },
  {
   "cell_type": "markdown",
   "metadata": {},
   "source": [
    "Removing duplicates from the data:"
   ]
  },
  {
   "cell_type": "code",
   "execution_count": 14,
   "metadata": {},
   "outputs": [],
   "source": [
    "df2 = df.drop_duplicates(keep=False)"
   ]
  },
  {
   "cell_type": "code",
   "execution_count": 15,
   "metadata": {},
   "outputs": [],
   "source": [
    "df2 = df2.drop_duplicates(['title'], keep='first')"
   ]
  },
  {
   "cell_type": "markdown",
   "metadata": {},
   "source": [
    "Missing values:"
   ]
  },
  {
   "cell_type": "code",
   "execution_count": 16,
   "metadata": {},
   "outputs": [],
   "source": [
    "#replace NaN with an empty string\n",
    "df2['description'] = df2['description'].fillna('')"
   ]
  },
  {
   "cell_type": "code",
   "execution_count": 17,
   "metadata": {},
   "outputs": [],
   "source": [
    "#removing commas\n",
    "df2['voters'] = df2['voters'].replace(',','', regex=True)"
   ]
  },
  {
   "cell_type": "code",
   "execution_count": 18,
   "metadata": {},
   "outputs": [],
   "source": [
    "#filling with 0\n",
    "df2['voters'] = df2['voters'].fillna(0)"
   ]
  },
  {
   "cell_type": "code",
   "execution_count": 19,
   "metadata": {},
   "outputs": [],
   "source": [
    "#changing type for int\n",
    "df2['voters'] = df2['voters'].astype(int) "
   ]
  },
  {
   "cell_type": "code",
   "execution_count": 20,
   "metadata": {},
   "outputs": [
    {
     "data": {
      "text/plain": [
       "title                     object\n",
       "author                    object\n",
       "rating                   float64\n",
       "voters                     int32\n",
       "price                    float64\n",
       "currency                  object\n",
       "description               object\n",
       "publisher                 object\n",
       "page_count                 int64\n",
       "generes                   object\n",
       "ISBN                      object\n",
       "language                  object\n",
       "published_date    datetime64[ns]\n",
       "Year               period[A-DEC]\n",
       "dtype: object"
      ]
     },
     "execution_count": 20,
     "metadata": {},
     "output_type": "execute_result"
    }
   ],
   "source": [
    "df2.dtypes"
   ]
  },
  {
   "cell_type": "code",
   "execution_count": 21,
   "metadata": {},
   "outputs": [
    {
     "data": {
      "text/plain": [
       "(225, 14)"
      ]
     },
     "execution_count": 21,
     "metadata": {},
     "output_type": "execute_result"
    }
   ],
   "source": [
    "df2.shape"
   ]
  },
  {
   "cell_type": "markdown",
   "metadata": {},
   "source": [
    "From above analysis one can see that in data were many duplicates. After removed them only 225 rows were left."
   ]
  },
  {
   "cell_type": "markdown",
   "metadata": {},
   "source": [
    "### Exploratory Data Analysis\n",
    "\n",
    "Some information about the data:"
   ]
  },
  {
   "cell_type": "code",
   "execution_count": 22,
   "metadata": {},
   "outputs": [
    {
     "data": {
      "text/html": [
       "<div>\n",
       "<style scoped>\n",
       "    .dataframe tbody tr th:only-of-type {\n",
       "        vertical-align: middle;\n",
       "    }\n",
       "\n",
       "    .dataframe tbody tr th {\n",
       "        vertical-align: top;\n",
       "    }\n",
       "\n",
       "    .dataframe thead th {\n",
       "        text-align: right;\n",
       "    }\n",
       "</style>\n",
       "<table border=\"1\" class=\"dataframe\">\n",
       "  <thead>\n",
       "    <tr style=\"text-align: right;\">\n",
       "      <th></th>\n",
       "      <th>rating</th>\n",
       "      <th>voters</th>\n",
       "      <th>price</th>\n",
       "      <th>page_count</th>\n",
       "    </tr>\n",
       "  </thead>\n",
       "  <tbody>\n",
       "    <tr>\n",
       "      <th>count</th>\n",
       "      <td>212.000000</td>\n",
       "      <td>225.000000</td>\n",
       "      <td>225.000000</td>\n",
       "      <td>225.000000</td>\n",
       "    </tr>\n",
       "    <tr>\n",
       "      <th>mean</th>\n",
       "      <td>4.415094</td>\n",
       "      <td>914.720000</td>\n",
       "      <td>49.679911</td>\n",
       "      <td>372.613333</td>\n",
       "    </tr>\n",
       "    <tr>\n",
       "      <th>std</th>\n",
       "      <td>0.364618</td>\n",
       "      <td>3748.326083</td>\n",
       "      <td>64.858412</td>\n",
       "      <td>402.514981</td>\n",
       "    </tr>\n",
       "    <tr>\n",
       "      <th>min</th>\n",
       "      <td>2.500000</td>\n",
       "      <td>0.000000</td>\n",
       "      <td>0.000000</td>\n",
       "      <td>15.000000</td>\n",
       "    </tr>\n",
       "    <tr>\n",
       "      <th>25%</th>\n",
       "      <td>4.200000</td>\n",
       "      <td>11.000000</td>\n",
       "      <td>26.510000</td>\n",
       "      <td>176.000000</td>\n",
       "    </tr>\n",
       "    <tr>\n",
       "      <th>50%</th>\n",
       "      <td>4.500000</td>\n",
       "      <td>84.000000</td>\n",
       "      <td>39.340000</td>\n",
       "      <td>304.000000</td>\n",
       "    </tr>\n",
       "    <tr>\n",
       "      <th>75%</th>\n",
       "      <td>4.700000</td>\n",
       "      <td>408.000000</td>\n",
       "      <td>62.820000</td>\n",
       "      <td>404.000000</td>\n",
       "    </tr>\n",
       "    <tr>\n",
       "      <th>max</th>\n",
       "      <td>5.000000</td>\n",
       "      <td>38526.000000</td>\n",
       "      <td>886.080000</td>\n",
       "      <td>4544.000000</td>\n",
       "    </tr>\n",
       "  </tbody>\n",
       "</table>\n",
       "</div>"
      ],
      "text/plain": [
       "           rating        voters       price   page_count\n",
       "count  212.000000    225.000000  225.000000   225.000000\n",
       "mean     4.415094    914.720000   49.679911   372.613333\n",
       "std      0.364618   3748.326083   64.858412   402.514981\n",
       "min      2.500000      0.000000    0.000000    15.000000\n",
       "25%      4.200000     11.000000   26.510000   176.000000\n",
       "50%      4.500000     84.000000   39.340000   304.000000\n",
       "75%      4.700000    408.000000   62.820000   404.000000\n",
       "max      5.000000  38526.000000  886.080000  4544.000000"
      ]
     },
     "execution_count": 22,
     "metadata": {},
     "output_type": "execute_result"
    }
   ],
   "source": [
    "df2.describe()"
   ]
  },
  {
   "cell_type": "code",
   "execution_count": 23,
   "metadata": {},
   "outputs": [
    {
     "name": "stdout",
     "output_type": "stream",
     "text": [
      "The average ratings of the book are 4.4.\n",
      "The average number of voters are 915. \n"
     ]
    }
   ],
   "source": [
    "avg_rating = round(df2['rating'].mean(),1)\n",
    "avg_vot = round(df2['voters'].mean(),)\n",
    "\n",
    "print(f\"The average ratings of the book are {avg_rating}.\\nThe average number of voters are {avg_vot}. \")"
   ]
  },
  {
   "cell_type": "markdown",
   "metadata": {},
   "source": [
    "From above short analysis one can see that the highest average rating a book can get is 5.0 and the lowest average rating a book can get is 2.5. The average number of rating are 4.4 and number of voters are 915.\n",
    "\n",
    "**The top 10 authors with most number of books published:**"
   ]
  },
  {
   "cell_type": "code",
   "execution_count": 24,
   "metadata": {},
   "outputs": [
    {
     "data": {
      "text/plain": [
       "Brian Tracy            6\n",
       "Robert Jordan          5\n",
       "Blake Pierce           5\n",
       "Morgan Rice            5\n",
       "Agatha Christie        4\n",
       "Disha Experts          4\n",
       "Geoff Johns            4\n",
       "Barbara Allan          4\n",
       "Andrzej Sapkowski      3\n",
       "George R. R. Martin    3\n",
       "Name: author, dtype: int64"
      ]
     },
     "execution_count": 24,
     "metadata": {},
     "output_type": "execute_result"
    }
   ],
   "source": [
    "authors = df2['author'].value_counts().head(10)\n",
    "authors"
   ]
  },
  {
   "cell_type": "code",
   "execution_count": 25,
   "metadata": {},
   "outputs": [
    {
     "data": {
      "image/png": "[encoded data removed]",
      "text/plain": [
       "<Figure size 576x432 with 1 Axes>"
      ]
     },
     "metadata": {
      "needs_background": "light"
     },
     "output_type": "display_data"
    }
   ],
   "source": [
    "plt.figure(figsize=(8,6))\n",
    "sns.countplot(y = \"author\", data = df2, order = authors.index, palette = \"Accent\")\n",
    "plt.title('Top authors with most number of books published', fontsize = 15)\n",
    "plt.show()"
   ]
  },
  {
   "cell_type": "markdown",
   "metadata": {},
   "source": [
    "From the chart above one can see that Brian Tracy and Morgan Rice have the most books in the data.\n",
    "\n",
    "**The most reviewed books**\n",
    "\n",
    "The books with the largest number of voters:"
   ]
  },
  {
   "cell_type": "code",
   "execution_count": 26,
   "metadata": {},
   "outputs": [],
   "source": [
    "books = df2.sort_values('voters', ascending = False).head(10).set_index('title')"
   ]
  },
  {
   "cell_type": "code",
   "execution_count": 31,
   "metadata": {},
   "outputs": [
    {
     "name": "stderr",
     "output_type": "stream",
     "text": [
      "C:\\Users\\PC\\Anaconda3\\lib\\site-packages\\seaborn\\_decorators.py:43: FutureWarning: Pass the following variables as keyword args: x, y. From version 0.12, the only valid positional argument will be `data`, and passing other arguments without an explicit keyword will result in an error or misinterpretation.\n",
      "  FutureWarning\n"
     ]
    },
    {
     "data": {
      "image/png": "[encoded data removed]",
      "text/plain": [
       "<Figure size 576x432 with 1 Axes>"
      ]
     },
     "metadata": {
      "needs_background": "light"
     },
     "output_type": "display_data"
    }
   ],
   "source": [
    "plt.figure(figsize=(8,6))\n",
    "sns.barplot(books['voters'], books.index, palette='Set2')\n",
    "plt.title('The books with the largest number of voters', fontsize = 15)\n",
    "plt.show()"
   ]
  },
  {
   "cell_type": "markdown",
   "metadata": {},
   "source": [
    "The voters column contains the number of voters for the book. Based on this column I receive the most commented books in the data. \n",
    "\n",
    "The \"Deadpool Kills the Marvel Universe\" has been rated more times than any other book and it reviewed almost 40000 times.  \n",
    "The next  \"The Raven\" has received little less reviewed. \n",
    "\n",
    "\n",
    "**Top books by average rating**\n",
    "\n",
    "The books with the best rating. For the analysis I choose book with voters above 500."
   ]
  },
  {
   "cell_type": "code",
   "execution_count": 28,
   "metadata": {},
   "outputs": [],
   "source": [
    "rating = df2[df2['voters']>500]"
   ]
  },
  {
   "cell_type": "code",
   "execution_count": 29,
   "metadata": {},
   "outputs": [
    {
     "data": {
      "text/html": [
       "<div>\n",
       "<style scoped>\n",
       "    .dataframe tbody tr th:only-of-type {\n",
       "        vertical-align: middle;\n",
       "    }\n",
       "\n",
       "    .dataframe tbody tr th {\n",
       "        vertical-align: top;\n",
       "    }\n",
       "\n",
       "    .dataframe thead th {\n",
       "        text-align: right;\n",
       "    }\n",
       "</style>\n",
       "<table border=\"1\" class=\"dataframe\">\n",
       "  <thead>\n",
       "    <tr style=\"text-align: right;\">\n",
       "      <th></th>\n",
       "      <th>rating</th>\n",
       "    </tr>\n",
       "    <tr>\n",
       "      <th>title</th>\n",
       "      <th></th>\n",
       "    </tr>\n",
       "  </thead>\n",
       "  <tbody>\n",
       "    <tr>\n",
       "      <th>Morning Star</th>\n",
       "      <td>4.8</td>\n",
       "    </tr>\n",
       "    <tr>\n",
       "      <th>Death Masks</th>\n",
       "      <td>4.8</td>\n",
       "    </tr>\n",
       "    <tr>\n",
       "      <th>Thrawn (Star Wars)</th>\n",
       "      <td>4.7</td>\n",
       "    </tr>\n",
       "    <tr>\n",
       "      <th>The Shadow Rising: Book Four of 'The Wheel of Time'</th>\n",
       "      <td>4.7</td>\n",
       "    </tr>\n",
       "    <tr>\n",
       "      <th>The Eye of the World: Book One of 'The Wheel of Time'</th>\n",
       "      <td>4.7</td>\n",
       "    </tr>\n",
       "    <tr>\n",
       "      <th>Mistborn Trilogy: The Final Empire, The Well of Ascension, The Hero of Ages</th>\n",
       "      <td>4.7</td>\n",
       "    </tr>\n",
       "    <tr>\n",
       "      <th>A Game of Thrones: A Song of Ice and Fire: Book One</th>\n",
       "      <td>4.6</td>\n",
       "    </tr>\n",
       "    <tr>\n",
       "      <th>The Lord of the Rings: The Fellowship of the Ring, The Two Towers, The Return of the King</th>\n",
       "      <td>4.6</td>\n",
       "    </tr>\n",
       "    <tr>\n",
       "      <th>The Fires of Heaven: Book Five of 'The Wheel of Time'</th>\n",
       "      <td>4.6</td>\n",
       "    </tr>\n",
       "    <tr>\n",
       "      <th>And Then There Were None</th>\n",
       "      <td>4.6</td>\n",
       "    </tr>\n",
       "  </tbody>\n",
       "</table>\n",
       "</div>"
      ],
      "text/plain": [
       "                                                    rating\n",
       "title                                                     \n",
       "Morning Star                                           4.8\n",
       "Death Masks                                            4.8\n",
       "Thrawn (Star Wars)                                     4.7\n",
       "The Shadow Rising: Book Four of 'The Wheel of T...     4.7\n",
       "The Eye of the World: Book One of 'The Wheel of...     4.7\n",
       "Mistborn Trilogy: The Final Empire, The Well of...     4.7\n",
       "A Game of Thrones: A Song of Ice and Fire: Book...     4.6\n",
       "The Lord of the Rings: The Fellowship of the Ri...     4.6\n",
       "The Fires of Heaven: Book Five of 'The Wheel of...     4.6\n",
       "And Then There Were None                               4.6"
      ]
     },
     "execution_count": 29,
     "metadata": {},
     "output_type": "execute_result"
    }
   ],
   "source": [
    "books_rated = rating[['rating','title']].groupby('title').mean().sort_values('rating', axis=0, ascending = False).head(10)\n",
    "books_rated"
   ]
  },
  {
   "cell_type": "code",
   "execution_count": 30,
   "metadata": {},
   "outputs": [
    {
     "name": "stderr",
     "output_type": "stream",
     "text": [
      "C:\\Users\\PC\\Anaconda3\\lib\\site-packages\\seaborn\\_decorators.py:43: FutureWarning: Pass the following variables as keyword args: x, y. From version 0.12, the only valid positional argument will be `data`, and passing other arguments without an explicit keyword will result in an error or misinterpretation.\n",
      "  FutureWarning\n"
     ]
    },
    {
     "data": {
      "image/png": "[encoded data removed]",
      "text/plain": [
       "<Figure size 576x432 with 1 Axes>"
      ]
     },
     "metadata": {
      "needs_background": "light"
     },
     "output_type": "display_data"
    }
   ],
   "source": [
    "plt.figure(figsize=(8,6))\n",
    "sns.barplot(books_rated['rating'], books_rated.index, palette='Set3')\n",
    "plt.title('The books by the best rating', fontsize = 20)\n",
    "plt.show()"
   ]
  },
  {
   "cell_type": "markdown",
   "metadata": {},
   "source": [
    "From chart above one can see that the books with high rating are \"Morning Star\" and \"Death Masks\". They have rating 4.8.\n",
    "\n",
    "\n",
    "**The publisher with most number of books published**"
   ]
  },
  {
   "cell_type": "code",
   "execution_count": 32,
   "metadata": {},
   "outputs": [
    {
     "data": {
      "text/plain": [
       "Hachette UK             20\n",
       "Marvel Entertainment    15\n",
       "Simon and Schuster      15\n",
       "Penguin                 15\n",
       "HarperCollins UK        14\n",
       "DC                      13\n",
       "Harper Collins           7\n",
       "Del Rey                  6\n",
       "AMACOM                   6\n",
       "Blake Pierce             5\n",
       "Name: publisher, dtype: int64"
      ]
     },
     "execution_count": 32,
     "metadata": {},
     "output_type": "execute_result"
    }
   ],
   "source": [
    "publisher = df2['publisher'].value_counts().head(10)\n",
    "publisher"
   ]
  },
  {
   "cell_type": "code",
   "execution_count": 38,
   "metadata": {},
   "outputs": [
    {
     "data": {
      "image/png": "[encoded data removed]",
      "text/plain": [
       "<Figure size 576x432 with 1 Axes>"
      ]
     },
     "metadata": {
      "needs_background": "light"
     },
     "output_type": "display_data"
    }
   ],
   "source": [
    "plt.figure(figsize=(8,6))\n",
    "sns.barplot(x=publisher,y=publisher.index)\n",
    "plt.xticks(rotation=90)\n",
    "plt.ylabel('Publishers')\n",
    "plt.xlabel('Number of books')\n",
    "plt.title('The publishers with most number of books', fontsize = 20)\n",
    "plt.show()"
   ]
  },
  {
   "cell_type": "markdown",
   "metadata": {},
   "source": [
    "The publisher with the most number of books published is \"Hachette UK\" with 20 books and \"Penguin\" with 15 as well.\n",
    "\n",
    "\n",
    "**Year of publishing**\n",
    "\n",
    "The number of published books by years:"
   ]
  },
  {
   "cell_type": "code",
   "execution_count": 33,
   "metadata": {},
   "outputs": [
    {
     "data": {
      "text/plain": [
       "2019    45\n",
       "2014    24\n",
       "2011    20\n",
       "2016    19\n",
       "2015    19\n",
       "2010    17\n",
       "2012    15\n",
       "2013    14\n",
       "2009    11\n",
       "2017    11\n",
       "Freq: A-DEC, Name: Year, dtype: int64"
      ]
     },
     "execution_count": 33,
     "metadata": {},
     "output_type": "execute_result"
    }
   ],
   "source": [
    "pub_year = df2.Year.value_counts().head(10)\n",
    "pub_year"
   ]
  },
  {
   "cell_type": "code",
   "execution_count": 40,
   "metadata": {},
   "outputs": [
    {
     "data": {
      "image/png": "[encoded data removed]",
      "text/plain": [
       "<Figure size 576x360 with 1 Axes>"
      ]
     },
     "metadata": {
      "needs_background": "light"
     },
     "output_type": "display_data"
    }
   ],
   "source": [
    "plt.figure(figsize=(8,5))\n",
    "sns.barplot(x=pub_year.index,y=pub_year)\n",
    "plt.xticks(rotation=90)\n",
    "plt.xlabel('Year')\n",
    "plt.ylabel('Number of published books')\n",
    "plt.title('The number of published books by years')\n",
    "plt.show()"
   ]
  },
  {
   "cell_type": "markdown",
   "metadata": {},
   "source": [
    "The year 2019 marks the highest number of published books.\n",
    "\n",
    "**Distributions of variables**\n",
    "\n",
    "Average rating distribution for the books:"
   ]
  },
  {
   "cell_type": "code",
   "execution_count": 50,
   "metadata": {},
   "outputs": [
    {
     "name": "stderr",
     "output_type": "stream",
     "text": [
      "C:\\Users\\PC\\Anaconda3\\lib\\site-packages\\seaborn\\distributions.py:2619: FutureWarning: `distplot` is a deprecated function and will be removed in a future version. Please adapt your code to use either `displot` (a figure-level function with similar flexibility) or `histplot` (an axes-level function for histograms).\n",
      "  warnings.warn(msg, FutureWarning)\n"
     ]
    },
    {
     "data": {
      "image/png": "[encoded data removed]",
      "text/plain": [
       "<Figure size 560x350 with 1 Axes>"
      ]
     },
     "metadata": {
      "needs_background": "light"
     },
     "output_type": "display_data"
    }
   ],
   "source": [
    "plt.figure(figsize=(8,5), dpi = 70)\n",
    "sns.distplot(df2.rating, color = 'teal')\n",
    "plt.xlabel('Rating', fontsize=13)\n",
    "plt.title('Rating distribution for all books',fontsize=15)\n",
    "plt.show();"
   ]
  },
  {
   "cell_type": "markdown",
   "metadata": {},
   "source": [
    "**Voters count distribution**"
   ]
  },
  {
   "cell_type": "code",
   "execution_count": 51,
   "metadata": {},
   "outputs": [
    {
     "name": "stderr",
     "output_type": "stream",
     "text": [
      "C:\\Users\\PC\\Anaconda3\\lib\\site-packages\\seaborn\\distributions.py:2619: FutureWarning: `distplot` is a deprecated function and will be removed in a future version. Please adapt your code to use either `displot` (a figure-level function with similar flexibility) or `histplot` (an axes-level function for histograms).\n",
      "  warnings.warn(msg, FutureWarning)\n"
     ]
    },
    {
     "data": {
      "image/png": "[encoded data removed]",
      "text/plain": [
       "<Figure size 560x350 with 1 Axes>"
      ]
     },
     "metadata": {
      "needs_background": "light"
     },
     "output_type": "display_data"
    }
   ],
   "source": [
    "plt.figure(figsize=(8,5), dpi = 70)\n",
    "sns.distplot(df.voters, color = 'teal')\n",
    "plt.xlabel('Voters count', fontsize=13)\n",
    "plt.title('Voters count distribution',fontsize=15)\n",
    "plt.show();"
   ]
  },
  {
   "cell_type": "markdown",
   "metadata": {},
   "source": [
    "#### Relationships between variables\n",
    "\n",
    "Relationship between rating and voters"
   ]
  },
  {
   "cell_type": "code",
   "execution_count": 45,
   "metadata": {},
   "outputs": [
    {
     "data": {
      "image/png": "[encoded data removed]",
      "text/plain": [
       "<Figure size 360x360 with 1 Axes>"
      ]
     },
     "metadata": {
      "needs_background": "light"
     },
     "output_type": "display_data"
    }
   ],
   "source": [
    "ax = sns.relplot(data=df2, x=\"rating\", y=\"voters\", color = 'crimson', sizes=(100, 200), height=5, marker='o')\n",
    "plt.title(\"Relation between voters counts and rating\",fontsize = 15)\n",
    "ax.set_axis_labels(\"Rating\", \"Voters Count\");"
   ]
  },
  {
   "cell_type": "markdown",
   "metadata": {},
   "source": [
    "From above plots one can see that majority of the ratings lie approximately near 4.0-5.0."
   ]
  },
  {
   "cell_type": "markdown",
   "metadata": {},
   "source": [
    "## Recommendation system\n",
    "\n",
    "### 1. The Simplest Recommendation System\n",
    "\n",
    "Simple Recommendations are the basic systems that recommend the best items based on a specific metric or score. \n",
    "One of the most basic metrics to get direct recommendations is rating. We can just find the most popular books and it is probably that the most of users will like them. But just using average rating of the books is not a very good way because it cannot take popularity and number of votes into consideration. Therefore I use the weighted rating which takes into account the average rating and number of votes it has collected. This system will make sure that a book with a 5 rating from 1000 voters gets a higher score than a book with the same rating but a little few voters.\n",
    "\n",
    "Mathematically the formula is represented as follows:\n",
    "\n",
    "**Weighted Rating(WR) = vR/(v+m) + mC/(v+m)**\n",
    "\n",
    "- v is the number of votes for the book\n",
    "- m is the minimum votes required to be listed\n",
    "- R is the average rating of the book\n",
    "- C is the average rating of all books\n",
    "\n",
    "In this method following steps are made: we decide on the metric or score to rate book on, then we calculate the score for every book and finally we sort the books based on the score and output the top results. \n",
    "\n",
    "First I calculate the value of C: the mean rating across all books. "
   ]
  },
  {
   "cell_type": "code",
   "execution_count": 34,
   "metadata": {},
   "outputs": [
    {
     "name": "stdout",
     "output_type": "stream",
     "text": [
      "4.415094339622644\n"
     ]
    }
   ],
   "source": [
    "C = df2['rating'].mean()\n",
    "print(C)"
   ]
  },
  {
   "cell_type": "markdown",
   "metadata": {},
   "source": [
    "Next I calculate the number of votes m which received by a book in the 90th percentile by using quantile() method."
   ]
  },
  {
   "cell_type": "code",
   "execution_count": 35,
   "metadata": {},
   "outputs": [
    {
     "name": "stdout",
     "output_type": "stream",
     "text": [
      "1370.7999999999997\n"
     ]
    }
   ],
   "source": [
    "m = df2['voters'].quantile(0.90)\n",
    "print(m)"
   ]
  },
  {
   "cell_type": "code",
   "execution_count": 36,
   "metadata": {},
   "outputs": [
    {
     "data": {
      "text/plain": [
       "(23, 14)"
      ]
     },
     "execution_count": 36,
     "metadata": {},
     "output_type": "execute_result"
    }
   ],
   "source": [
    "#filter out all qualified books into a new DataFrame\n",
    "q_book = df2.copy().loc[df2['voters'] >= m]\n",
    "q_book.shape"
   ]
  },
  {
   "cell_type": "markdown",
   "metadata": {},
   "source": [
    "Next step I define function to calculate the weighted rating for each qualified book and then I define a new value 'score' and calculate its value with function."
   ]
  },
  {
   "cell_type": "code",
   "execution_count": 39,
   "metadata": {},
   "outputs": [],
   "source": [
    "def weighted_rating(df, m=m, C=C):\n",
    "    \"\"\"Function for compute the weighted rating of each book\"\"\"\n",
    "    v = df['voters']\n",
    "    R = df['rating']\n",
    "    weight = (v/(v+m) * R) + (m/(m+v) * C)\n",
    "    return weight"
   ]
  },
  {
   "cell_type": "code",
   "execution_count": 40,
   "metadata": {},
   "outputs": [],
   "source": [
    "q_book['score'] = q_book.apply(weighted_rating, axis=1)"
   ]
  },
  {
   "cell_type": "markdown",
   "metadata": {},
   "source": [
    "Finally I sort the DataFrame in descending order by the score column and output the title, voters , rating  and score of the top 15 books."
   ]
  },
  {
   "cell_type": "code",
   "execution_count": 41,
   "metadata": {},
   "outputs": [],
   "source": [
    "q_book = q_book.sort_values('score', ascending=False)"
   ]
  },
  {
   "cell_type": "code",
   "execution_count": 42,
   "metadata": {},
   "outputs": [
    {
     "data": {
      "text/html": [
       "<div>\n",
       "<style scoped>\n",
       "    .dataframe tbody tr th:only-of-type {\n",
       "        vertical-align: middle;\n",
       "    }\n",
       "\n",
       "    .dataframe tbody tr th {\n",
       "        vertical-align: top;\n",
       "    }\n",
       "\n",
       "    .dataframe thead th {\n",
       "        text-align: right;\n",
       "    }\n",
       "</style>\n",
       "<table border=\"1\" class=\"dataframe\">\n",
       "  <thead>\n",
       "    <tr style=\"text-align: right;\">\n",
       "      <th></th>\n",
       "      <th>title</th>\n",
       "      <th>voters</th>\n",
       "      <th>rating</th>\n",
       "      <th>score</th>\n",
       "    </tr>\n",
       "  </thead>\n",
       "  <tbody>\n",
       "    <tr>\n",
       "      <th>285</th>\n",
       "      <td>Mistborn Trilogy: The Final Empire, The Well o...</td>\n",
       "      <td>2700</td>\n",
       "      <td>4.7</td>\n",
       "      <td>4.604061</td>\n",
       "    </tr>\n",
       "    <tr>\n",
       "      <th>362</th>\n",
       "      <td>Ready Player One</td>\n",
       "      <td>17719</td>\n",
       "      <td>4.6</td>\n",
       "      <td>4.586722</td>\n",
       "    </tr>\n",
       "    <tr>\n",
       "      <th>69</th>\n",
       "      <td>A Game of Thrones: A Song of Ice and Fire: Boo...</td>\n",
       "      <td>10650</td>\n",
       "      <td>4.6</td>\n",
       "      <td>4.578914</td>\n",
       "    </tr>\n",
       "    <tr>\n",
       "      <th>1144</th>\n",
       "      <td>The Eye of the World: Book One of 'The Wheel o...</td>\n",
       "      <td>1780</td>\n",
       "      <td>4.7</td>\n",
       "      <td>4.576048</td>\n",
       "    </tr>\n",
       "    <tr>\n",
       "      <th>56</th>\n",
       "      <td>Civil War: Volume 1</td>\n",
       "      <td>5177</td>\n",
       "      <td>4.5</td>\n",
       "      <td>4.482225</td>\n",
       "    </tr>\n",
       "    <tr>\n",
       "      <th>882</th>\n",
       "      <td>The Walking Dead: Compendium 1</td>\n",
       "      <td>4533</td>\n",
       "      <td>4.5</td>\n",
       "      <td>4.480286</td>\n",
       "    </tr>\n",
       "    <tr>\n",
       "      <th>190</th>\n",
       "      <td>It</td>\n",
       "      <td>4260</td>\n",
       "      <td>4.5</td>\n",
       "      <td>4.479330</td>\n",
       "    </tr>\n",
       "    <tr>\n",
       "      <th>239</th>\n",
       "      <td>A Dance with Dragons: A Song of Ice and Fire: ...</td>\n",
       "      <td>1799</td>\n",
       "      <td>4.5</td>\n",
       "      <td>4.463282</td>\n",
       "    </tr>\n",
       "    <tr>\n",
       "      <th>654</th>\n",
       "      <td>Batman: Year One</td>\n",
       "      <td>1756</td>\n",
       "      <td>4.5</td>\n",
       "      <td>4.462777</td>\n",
       "    </tr>\n",
       "    <tr>\n",
       "      <th>32</th>\n",
       "      <td>How to Win Friends and Influence People</td>\n",
       "      <td>1382</td>\n",
       "      <td>4.4</td>\n",
       "      <td>4.407516</td>\n",
       "    </tr>\n",
       "  </tbody>\n",
       "</table>\n",
       "</div>"
      ],
      "text/plain": [
       "                                                  title  voters  rating  \\\n",
       "285   Mistborn Trilogy: The Final Empire, The Well o...    2700     4.7   \n",
       "362                                    Ready Player One   17719     4.6   \n",
       "69    A Game of Thrones: A Song of Ice and Fire: Boo...   10650     4.6   \n",
       "1144  The Eye of the World: Book One of 'The Wheel o...    1780     4.7   \n",
       "56                                  Civil War: Volume 1    5177     4.5   \n",
       "882                      The Walking Dead: Compendium 1    4533     4.5   \n",
       "190                                                  It    4260     4.5   \n",
       "239   A Dance with Dragons: A Song of Ice and Fire: ...    1799     4.5   \n",
       "654                                    Batman: Year One    1756     4.5   \n",
       "32              How to Win Friends and Influence People    1382     4.4   \n",
       "\n",
       "         score  \n",
       "285   4.604061  \n",
       "362   4.586722  \n",
       "69    4.578914  \n",
       "1144  4.576048  \n",
       "56    4.482225  \n",
       "882   4.480286  \n",
       "190   4.479330  \n",
       "239   4.463282  \n",
       "654   4.462777  \n",
       "32    4.407516  "
      ]
     },
     "execution_count": 42,
     "metadata": {},
     "output_type": "execute_result"
    }
   ],
   "source": [
    "#print the top 15 movies\n",
    "q_book[['title', 'voters', 'rating', 'score']].head(10)"
   ]
  },
  {
   "cell_type": "markdown",
   "metadata": {},
   "source": [
    "### 2. Content-Based Recommender\n",
    "\n",
    "The content-based recommendations suggest similar items based on a particular item. This method uses item data such as a description, genre etc. to find its similarity with other items and  make the reccomendations. \n",
    "\n",
    "In our case will be recommended the books that are similar to each other. To build that system I will compute pairwise cosine similarity scores for all books based on their description and  recommend books based on that similarity score threshold. \n",
    "\n",
    "Because the data are in  Natural Language, I will have to calculate the word vectors for the data and find the similarity between each vector. I will use Term Frequency-Inverse Document Frequency (TF-IDF) vectors for each document. The TF-IDF score gives us the frequency of words occuring in a document to helps us evaluating the similarity between two documents. \n",
    "\n",
    "First I create the TF-IDF Matrix and remove all english stop words such as 'the', 'a':"
   ]
  },
  {
   "cell_type": "code",
   "execution_count": 43,
   "metadata": {},
   "outputs": [
    {
     "data": {
      "text/plain": [
       "(225, 7273)"
      ]
     },
     "execution_count": 43,
     "metadata": {},
     "output_type": "execute_result"
    }
   ],
   "source": [
    "tfidf = TfidfVectorizer(stop_words='english')\n",
    "tfidf_matrix = tfidf.fit_transform(df2['description'])\n",
    "\n",
    "tfidf_matrix.shape"
   ]
  },
  {
   "cell_type": "markdown",
   "metadata": {},
   "source": [
    "Now I use Cosine Similarity to find the similarity between two books:"
   ]
  },
  {
   "cell_type": "code",
   "execution_count": 44,
   "metadata": {},
   "outputs": [
    {
     "data": {
      "text/plain": [
       "(225, 225)"
      ]
     },
     "execution_count": 44,
     "metadata": {},
     "output_type": "execute_result"
    }
   ],
   "source": [
    "# Computing the cosine similarity matrix\n",
    "cosine_sim = linear_kernel(tfidf_matrix, tfidf_matrix)\n",
    "cosine_sim.shape"
   ]
  },
  {
   "cell_type": "code",
   "execution_count": 45,
   "metadata": {},
   "outputs": [
    {
     "data": {
      "text/plain": [
       "array([1.00000000e+00, 2.35631081e-03, 0.00000000e+00, 0.00000000e+00,\n",
       "       4.96015043e-03, 6.19998151e-03, 1.26417590e-02, 3.69430570e-02,\n",
       "       1.36257265e-02, 8.32862802e-03, 5.04780052e-03, 4.79631399e-02,\n",
       "       1.63474078e-02, 1.95614873e-02, 1.03902866e-02, 9.01806959e-03,\n",
       "       1.31800881e-02, 2.46933316e-02, 1.55155993e-02, 5.39302693e-02,\n",
       "       4.29098458e-02, 1.81543417e-02, 9.50803351e-03, 3.21691150e-02,\n",
       "       1.03336778e-02, 1.48651067e-02, 1.48399539e-02, 0.00000000e+00,\n",
       "       1.36239207e-02, 2.50579726e-02, 1.40138012e-02, 1.01929319e-02,\n",
       "       4.57287516e-02, 2.06531587e-02, 1.28714128e-02, 1.34734055e-02,\n",
       "       6.71350587e-03, 1.82842619e-02, 1.22402083e-02, 1.61094407e-02,\n",
       "       1.75455101e-03, 3.52962695e-02, 2.40723402e-02, 5.07849422e-03,\n",
       "       1.83343256e-02, 2.78953818e-02, 2.54227124e-02, 6.65151319e-03,\n",
       "       5.32535828e-02, 1.63999073e-02, 1.82814228e-02, 3.89576873e-02,\n",
       "       6.34676092e-03, 9.13140877e-03, 2.88676296e-02, 3.27735831e-02,\n",
       "       0.00000000e+00, 1.00961388e-02, 0.00000000e+00, 1.44776953e-02,\n",
       "       1.19000793e-02, 1.56162687e-02, 3.14354615e-01, 7.75521051e-02,\n",
       "       3.19862675e-01, 1.94573079e-02, 2.64079084e-02, 6.27570509e-02,\n",
       "       5.20480891e-02, 0.00000000e+00, 7.55701034e-03, 4.42389017e-02,\n",
       "       2.41634500e-02, 2.77446554e-02, 6.27975463e-03, 3.53828173e-01,\n",
       "       8.01577208e-03, 4.93155982e-02, 1.30278679e-03, 2.70031386e-02,\n",
       "       3.07163023e-02, 1.49799611e-02, 2.13982879e-02, 1.52969462e-02,\n",
       "       2.89007469e-02, 0.00000000e+00, 2.43851201e-02, 2.78348755e-02,\n",
       "       1.11574012e-02, 6.20420513e-02, 8.23016250e-03, 1.78966179e-02,\n",
       "       4.31033995e-03, 7.35176681e-03, 2.54907016e-02, 7.02934313e-03,\n",
       "       0.00000000e+00, 3.82942830e-03, 1.84744990e-03, 1.17468754e-02,\n",
       "       4.48776607e-02, 2.57611854e-03, 5.81511479e-03, 1.18056157e-02,\n",
       "       7.50552582e-03, 1.04780879e-02, 7.11663310e-03, 1.89471033e-02,\n",
       "       2.06273835e-02, 1.50315104e-02, 6.05325531e-03, 9.75047055e-03,\n",
       "       6.39366949e-03, 3.25694560e-02, 5.74030510e-03, 4.06191184e-03,\n",
       "       1.22186176e-03, 1.24552461e-03, 2.52751575e-02, 4.51716990e-02,\n",
       "       2.94252445e-02, 2.52310052e-02, 1.85370363e-02, 7.18608608e-03,\n",
       "       1.52346693e-02, 7.16578192e-03, 1.58137465e-02, 5.06039822e-03,\n",
       "       1.84659879e-02, 3.55137016e-02, 1.63986398e-02, 0.00000000e+00,\n",
       "       1.78786021e-02, 4.33662036e-03, 1.82732573e-02, 9.65768414e-03,\n",
       "       1.83170729e-02, 2.99997483e-02, 1.36154243e-02, 6.58699076e-03,\n",
       "       2.90849413e-02, 1.01438179e-02, 0.00000000e+00, 5.64512311e-03,\n",
       "       1.64410094e-02, 2.06260090e-02, 1.85044474e-02, 1.60539666e-02,\n",
       "       9.38623425e-03, 1.40424923e-02, 3.73593958e-02, 3.31997204e-03,\n",
       "       1.24270692e-02, 0.00000000e+00, 2.14340177e-03, 3.61787722e-03,\n",
       "       1.54339289e-03, 0.00000000e+00, 1.70544428e-02, 2.29342010e-02,\n",
       "       2.92980111e-03, 3.25448682e-02, 8.99971907e-03, 2.80880789e-03,\n",
       "       0.00000000e+00, 0.00000000e+00, 0.00000000e+00, 1.20106243e-02,\n",
       "       4.34281037e-03, 9.87063449e-03, 1.96954749e-02, 0.00000000e+00,\n",
       "       9.87284766e-03, 0.00000000e+00, 2.13397730e-02, 2.86050238e-02,\n",
       "       1.60290358e-02, 3.09279007e-02, 7.62672749e-02, 7.73978550e-03,\n",
       "       1.74121858e-02, 3.58920003e-02, 5.65301917e-02, 1.57230239e-02,\n",
       "       5.25311483e-03, 2.80092538e-03, 3.19652707e-02, 1.28003394e-03,\n",
       "       7.05796372e-02, 1.77972497e-02, 9.12767813e-03, 3.26488645e-02,\n",
       "       0.00000000e+00, 1.02281012e-02, 1.16194189e-02, 7.78645421e-04,\n",
       "       4.91409967e-02, 8.47592742e-03, 7.23434409e-03, 0.00000000e+00,\n",
       "       1.37054131e-02, 1.99975354e-02, 1.72684649e-02, 6.10678561e-03,\n",
       "       1.56011912e-02, 2.02264983e-02, 0.00000000e+00, 1.74825566e-02,\n",
       "       2.28177332e-02, 3.53921587e-02, 1.63429901e-02, 1.46316933e-02,\n",
       "       9.81229754e-03, 1.04859832e-02, 9.15020755e-03, 3.24595559e-03,\n",
       "       3.63995535e-03, 1.13013167e-02, 1.61696129e-02, 0.00000000e+00,\n",
       "       7.28050671e-03, 2.60319945e-02, 2.15604766e-02, 1.80156469e-02,\n",
       "       3.13046522e-02])"
      ]
     },
     "execution_count": 45,
     "metadata": {},
     "output_type": "execute_result"
    }
   ],
   "source": [
    "cosine_sim[0]"
   ]
  },
  {
   "cell_type": "markdown",
   "metadata": {},
   "source": [
    "Then I construct a reverse map of indices and book titles:"
   ]
  },
  {
   "cell_type": "code",
   "execution_count": 46,
   "metadata": {},
   "outputs": [
    {
     "data": {
      "text/plain": [
       "title\n",
       "Antiques Roadkill: A Trash 'n' Treasures Mystery    1\n",
       "The Art of Super Mario Odyssey                      2\n",
       "The Painted Man (The Demon Cycle, Book 1)           4\n",
       "God of War: The Official Novelization               6\n",
       "Edgedancer: From the Stormlight Archive             7\n",
       "dtype: int64"
      ]
     },
     "execution_count": 46,
     "metadata": {},
     "output_type": "execute_result"
    }
   ],
   "source": [
    "indices = pd.Series(df2.index, index=df2['title']).drop_duplicates()\n",
    "indices[:5]"
   ]
  },
  {
   "cell_type": "markdown",
   "metadata": {},
   "source": [
    "Finally I create recommendation function which takes the book title as input and the outputs are the similar books:"
   ]
  },
  {
   "cell_type": "code",
   "execution_count": 47,
   "metadata": {},
   "outputs": [],
   "source": [
    "def get_recommendations(title, cosine_sim=cosine_sim):\n",
    "    \"\"\"Function to create recommendations\"\"\"\n",
    "    index = indices[title]\n",
    "    sim_score = list(enumerate(cosine_sim[index]))\n",
    "    sim_score = sorted(sim_score, key=lambda x: x[1], reverse=True)\n",
    "    sim_score = sim_score[1:11]\n",
    "    book_indices = [i[0] for i in sim_score]\n",
    "    return df2['title'].iloc[book_indices]"
   ]
  },
  {
   "cell_type": "markdown",
   "metadata": {},
   "source": [
    "Predictions:"
   ]
  },
  {
   "cell_type": "code",
   "execution_count": 48,
   "metadata": {},
   "outputs": [
    {
     "data": {
      "text/plain": [
       "378                                           Death Masks\n",
       "770                                             The Joker\n",
       "8       Blood, Sweat, and Pixels: The Triumphant, Turb...\n",
       "149                                     Gangster: A Novel\n",
       "58      The Guardians: The explosive new thriller from...\n",
       "1089                         Batman: Arkham Knight Vol. 3\n",
       "97                                  Now or Never: A Novel\n",
       "670                                         The Black Box\n",
       "154            Kings and Sorcerers Bundle (Books 2 and 3)\n",
       "54                Little Girl Lost: A Lucy Black Thriller\n",
       "Name: title, dtype: object"
      ]
     },
     "execution_count": 48,
     "metadata": {},
     "output_type": "execute_result"
    }
   ],
   "source": [
    "get_recommendations('The Raven')"
   ]
  },
  {
   "cell_type": "code",
   "execution_count": 49,
   "metadata": {},
   "outputs": [
    {
     "data": {
      "text/plain": [
       "62      Competitive Advantage: Creating and Sustaining...\n",
       "383     Business Strategy (The Brian Tracy Success Lib...\n",
       "147          Management (The Brian Tracy Success Library)\n",
       "171     Platform Revolution: How Networked Markets Are...\n",
       "215     Goals!: How to Get Everything You Want -- Fast...\n",
       "378                                           Death Masks\n",
       "992     Becoming Steve Jobs: The Evolution of a Reckle...\n",
       "229     The Power of Habit: Why We Do What We Do in Li...\n",
       "131                             Principles: Life and Work\n",
       "1084      Leadership 101: What Every Leader Needs to Know\n",
       "Name: title, dtype: object"
      ]
     },
     "execution_count": 49,
     "metadata": {},
     "output_type": "execute_result"
    }
   ],
   "source": [
    "get_recommendations('How To Win Friends and Influence People')"
   ]
  },
  {
   "cell_type": "markdown",
   "metadata": {},
   "source": [
    "**Genres Based Recommender**\n",
    "\n",
    "In this section I will build a recommender system based on genres of books. This kind of recommender is based on books genres and anytime one user inputs book's title the system will provide him with 10 possible books that are similar to the his chooses. \n",
    "\n",
    "Next steps are the same at previous example. I will use 'genre' to make recommendations but for this model I will use the CountVectorizer() instead of TF-IDF one. This is because we do not want to down-weight any features that we are using for this analysis. The main difference between CountVectorizer() and TF-IDF is the inverse document frequency (IDF) component which is present in later and not in the former.\n",
    "\n",
    "I define a Count Vectorizer Object and remove all english stop words:"
   ]
  },
  {
   "cell_type": "code",
   "execution_count": 50,
   "metadata": {},
   "outputs": [
    {
     "data": {
      "text/plain": [
       "(225, 153)"
      ]
     },
     "execution_count": 50,
     "metadata": {},
     "output_type": "execute_result"
    }
   ],
   "source": [
    "count = CountVectorizer(stop_words='english')\n",
    "count_matrix = count.fit_transform(df2['generes'])\n",
    "\n",
    "count_matrix.shape"
   ]
  },
  {
   "cell_type": "markdown",
   "metadata": {},
   "source": [
    "Next I will use the cosine similarity to measure the distance between the embeddings:"
   ]
  },
  {
   "cell_type": "code",
   "execution_count": 51,
   "metadata": {},
   "outputs": [],
   "source": [
    "#computing the Cosine Similarity matrix based on the count matrix\n",
    "cosine_sim2 = cosine_similarity(count_matrix, count_matrix)"
   ]
  },
  {
   "cell_type": "markdown",
   "metadata": {},
   "source": [
    "The I reset index of main DataFrame and construct reverse mapping:"
   ]
  },
  {
   "cell_type": "code",
   "execution_count": 52,
   "metadata": {},
   "outputs": [],
   "source": [
    "df3 = df2.reset_index()\n",
    "indices = pd.Series(df3.index, index=df3['title'])"
   ]
  },
  {
   "cell_type": "markdown",
   "metadata": {},
   "source": [
    "Predictions:"
   ]
  },
  {
   "cell_type": "code",
   "execution_count": 53,
   "metadata": {},
   "outputs": [
    {
     "data": {
      "text/plain": [
       "283                                              Candide\n",
       "79     The Weight of Honor (Kings and Sorcerers--Book 3)\n",
       "675                           The Man in the High Castle\n",
       "22     The Last Wife: An absolutely gripping and emot...\n",
       "25          Prince of Thorns (The Broken Empire, Book 1)\n",
       "29                                          Morning Star\n",
       "35     The Empty Nest: An unputdownably gripping psyc...\n",
       "36                                              Salvaged\n",
       "78     No Mercy: The brand new novel from the Queen o...\n",
       "84                      Final Option: 'The best one yet'\n",
       "Name: title, dtype: object"
      ]
     },
     "execution_count": 53,
     "metadata": {},
     "output_type": "execute_result"
    }
   ],
   "source": [
    "get_recommendations('The Raven', cosine_sim2)"
   ]
  },
  {
   "cell_type": "code",
   "execution_count": 54,
   "metadata": {},
   "outputs": [
    {
     "data": {
      "text/plain": [
       "1084      Leadership 101: What Every Leader Needs to Know\n",
       "207     Freakonomics Rev Ed: A Rogue Economist Explore...\n",
       "736     Predictably Irrational: The Hidden Forces that...\n",
       "26                Influence: The Psychology of Persuasion\n",
       "32                How to Win Friends and Influence People\n",
       "67      Secrets of the Millionaire Mind: Mastering the...\n",
       "76      Good to Great: Why Some Companies Make the Lea...\n",
       "131                             Principles: Life and Work\n",
       "147          Management (The Brian Tracy Success Library)\n",
       "202     The Neatest Little Guide to Stock Market Inves...\n",
       "Name: title, dtype: object"
      ]
     },
     "execution_count": 54,
     "metadata": {},
     "output_type": "execute_result"
    }
   ],
   "source": [
    "get_recommendations('How To Win Friends and Influence People', cosine_sim2)"
   ]
  },
  {
   "cell_type": "code",
   "execution_count": 55,
   "metadata": {},
   "outputs": [
    {
     "data": {
      "text/plain": [
       "215     Goals!: How to Get Everything You Want -- Fast...\n",
       "261                                            The Secret\n",
       "678     One Small Step Can Change Your Life: The Kaize...\n",
       "1091                The Law of Success in Sixteen Lessons\n",
       "61                                   The Art Of Seduction\n",
       "71      Happy: Why More or Less Everything is Absolute...\n",
       "517                                10 Ways to be annoying\n",
       "73          The Ultimate Secrets of Total Self-Confidence\n",
       "376     You Are a Badass: How to Stop Doubting Your Gr...\n",
       "280     Getting Things Done: The Art of Stress-Free Pr...\n",
       "Name: title, dtype: object"
      ]
     },
     "execution_count": 55,
     "metadata": {},
     "output_type": "execute_result"
    }
   ],
   "source": [
    "get_recommendations('The Secret', cosine_sim2)"
   ]
  },
  {
   "cell_type": "markdown",
   "metadata": {},
   "source": [
    "### Summary\n",
    "\n",
    "This project was aimed to build book recommendation system with two methods: the simplest recommendation system and Content-Based filtering. I have started with data analysis to better meet the data. Then I have cleaned data and prepared them to the modelling. Following I have used two methods to get python functions that user can input one book's name then the system can provide the other most possible books that he can to read. Finally I have received some reccomendation for choosen books and as one can see the models show a pretty decent results. "
   ]
  },
  {
   "cell_type": "code",
   "execution_count": null,
   "metadata": {},
   "outputs": [],
   "source": []
  }
 ],
 "metadata": {
  "kernelspec": {
   "display_name": "Python 3",
   "language": "python",
   "name": "python3"
  },
  "language_info": {
   "codemirror_mode": {
    "name": "ipython",
    "version": 3
   },
   "file_extension": ".py",
   "mimetype": "text/x-python",
   "name": "python",
   "nbconvert_exporter": "python",
   "pygments_lexer": "ipython3",
   "version": "3.6.7"
  }
 },
 "nbformat": 4,
 "nbformat_minor": 2
}
